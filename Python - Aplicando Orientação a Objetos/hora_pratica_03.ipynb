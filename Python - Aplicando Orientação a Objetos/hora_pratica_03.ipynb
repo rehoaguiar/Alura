{
 "cells": [
  {
   "cell_type": "markdown",
   "metadata": {},
   "source": [
    "1. Crie uma classe chamada ContaBancaria com um construtor que aceita os parâmetros titular e saldo. Inicie o atributo ativo como False por padrão.\n",
    "\n",
    "2. Na classe ContaBancaria, adicione um método especial __str__ que retorna uma mensagem formatada com o titular e o saldo da conta. Crie duas instâncias da classe e imprima essas instâncias.\n",
    "\n",
    "3. Adicione um método de classe chamado ativar_conta à classe ContaBancaria que define o atributo ativo como True. Crie uma instância da classe, chame o método de classe e imprima o valor de ativo.\n",
    "\n",
    "4. Refatore a classe ContaBancaria para utilizar a abordagem \"pythonica\" na criação de atributos. Utilize propriedades, se necessário.\n",
    "\n",
    "5. Crie uma instância da classe e imprima o valor da propriedade titular."
   ]
  },
  {
   "cell_type": "code",
   "execution_count": 36,
   "metadata": {},
   "outputs": [
    {
     "name": "stdout",
     "output_type": "stream",
     "text": [
      "Conta de Reh | Saldo: 20000 | Ativo: Inativo\n",
      "Conta de Teteu | Saldo: 50000 | Ativo: Inativo\n",
      "Conta de May | Saldo: 50000 | Ativo: Inativo\n",
      "Conta de Reh | Saldo: 20000 | Ativo: Ativo\n"
     ]
    }
   ],
   "source": [
    "class ContaBancaria:\n",
    "    def __init__(self, titular, saldo):\n",
    "        self._titular = titular.title()\n",
    "        self._saldo = saldo\n",
    "        self._ativo = False\n",
    "\n",
    "    def __str__(self):\n",
    "        return f'Conta de {self._titular} | Saldo: {self._saldo} | Ativo: {self.ativo}'\n",
    "\n",
    "    @classmethod\n",
    "    def ativar_conta(cls, conta):\n",
    "        conta._ativo = True\n",
    "\n",
    "    @property\n",
    "    def titular(self):\n",
    "        return self._titular\n",
    "\n",
    "    @property\n",
    "    def saldo(self):\n",
    "        return self._saldo\n",
    "\n",
    "    @property\n",
    "    def ativo(self):\n",
    "        return 'Ativo' if self._ativo else 'Inativo'\n",
    "\n",
    "\n",
    "conta1 = ContaBancaria('Reh', 20000)\n",
    "conta2 = ContaBancaria('Teteu', 50000)\n",
    "conta3 = ContaBancaria('May', 50000)\n",
    "\n",
    "print(conta1)\n",
    "print(conta2)\n",
    "print(conta3)\n",
    "\n",
    "ContaBancaria.ativar_conta(conta1)\n",
    "print(conta1)"
   ]
  },
  {
   "cell_type": "markdown",
   "metadata": {},
   "source": [
    "6. Crie uma classe chamada ClienteBanco com um construtor que aceita 5 atributos. Instancie 3 objetos desta classe e atribua valores aos seus atributos através do método construtor. "
   ]
  },
  {
   "cell_type": "code",
   "execution_count": 37,
   "metadata": {},
   "outputs": [
    {
     "name": "stdout",
     "output_type": "stream",
     "text": [
      "Conta Bancária: 1  | Nome: Reh   | CPF: 28 | Endereço: Brasília | Telefone: (61) 9 2808-2021\n",
      "Conta Bancária: 2  | Nome: Teteu | CPF: 08 | Endereço: Brasília | Telefone: (61) 9 2808-2021\n",
      "Conta Bancária: 3  | Nome: May   | CPF: 21 | Endereço: Brasília | Telefone: (61) 9 2808-2021\n"
     ]
    }
   ],
   "source": [
    "class ClienteBanco():\n",
    "    id_conta_atual = 1\n",
    "    \n",
    "    def __init__(self, nome, cpf, endereco, telefone):\n",
    "        self._nome = nome\n",
    "        self._cpf = cpf\n",
    "        self._endereco = endereco\n",
    "        self._telefone = telefone\n",
    "        self._id_conta = ClienteBanco.id_conta_atual\n",
    "        ClienteBanco.id_conta_atual += 1\n",
    "        self.conta = None\n",
    "\n",
    "    def __str__(self):\n",
    "        conta_info = str(self.conta) if self.conta else \"Nenhuma conta associada\"\n",
    "        return f'Conta Bancária: {str(self._id_conta).ljust(2)} | Nome: {self._nome.ljust(5)} | CPF: {self._cpf.ljust(2)} | Endereço: {self._endereco.ljust(5)} | Telefone: {self._telefone}'\n",
    "    \n",
    "    @classmethod\n",
    "    def criar_conta(cls, cliente, saldo_inicial):\n",
    "        cliente.conta = ContaBancaria(cliente._nome, saldo_inicial)\n",
    "\n",
    "cliente01 = ClienteBanco('Reh', '28', 'Brasília', '(61) 9 2808-2021')\n",
    "cliente02 = ClienteBanco('Teteu', '08', 'Brasília', '(61) 9 2808-2021')\n",
    "cliente03 = ClienteBanco('May', '21', 'Brasília', '(61) 9 2808-2021')\n",
    "\n",
    "print(cliente01)\n",
    "print(cliente02)\n",
    "print(cliente03)\n",
    "\n",
    "ClienteBanco.criar_conta(cliente01, 280821)\n",
    "ClienteBanco.criar_conta(cliente02, 280821)\n",
    "ClienteBanco.criar_conta(cliente03, 280821)"
   ]
  }
 ],
 "metadata": {
  "kernelspec": {
   "display_name": "Python 3",
   "language": "python",
   "name": "python3"
  },
  "language_info": {
   "codemirror_mode": {
    "name": "ipython",
    "version": 3
   },
   "file_extension": ".py",
   "mimetype": "text/x-python",
   "name": "python",
   "nbconvert_exporter": "python",
   "pygments_lexer": "ipython3",
   "version": "3.11.9"
  }
 },
 "nbformat": 4,
 "nbformat_minor": 2
}
