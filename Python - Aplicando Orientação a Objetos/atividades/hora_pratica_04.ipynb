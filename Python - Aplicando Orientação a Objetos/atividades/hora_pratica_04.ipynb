{
 "cells": [
  {
   "cell_type": "markdown",
   "metadata": {},
   "source": [
    "1. Crie uma classe chamada Livro com um construtor que aceita osparâmetros titulo, autor e ano_publicacao. Inicie um atributochamado disponivel como True por padrão.\n",
    "\n",
    "2. Na classe Livro, adicione um método especial str que retorna uma mensagem formatada com o título, autor e ano de publicação do livro. Crie duas instâncias da classe Livro e imprima essas instâncias.\n",
    "\n",
    "3. Adicione um método de instância chamado emprestar à classe Livro que define o atributo disponivel como False. Crie uma instância da classe, chame o método emprestar e imprima se o livro está disponível ou não.\n",
    "\n",
    "4. Adicione um método estático chamado verificar_disponibilidade à classe Livro que recebe um ano como parâmetro e retorna uma listados livros disponíveis publicados nesse ano.\n"
   ]
  },
  {
   "cell_type": "code",
   "execution_count": 1,
   "metadata": {},
   "outputs": [],
   "source": [
    "# Criação da Classe\n",
    "class Livro:\n",
    "    def __init__(self, titulo, autor, ano_publicacao):\n",
    "        self._titulo = titulo.title()\n",
    "        self._autor = autor.title()\n",
    "        self._ano_publicacao = ano_publicacao\n",
    "        self._disponivel = True\n",
    "\n",
    "    # Método Especial\n",
    "    def __str__(self):\n",
    "        return f'{self._titulo.ljust(15)} | {self._autor.ljust(15)} | {str(self._ano_publicacao).ljust(8)} | {self._disponivel}'\n",
    "    \n",
    "    def emprestar(self):\n",
    "        self._disponivel = False\n",
    "\n",
    "    @staticmethod\n",
    "    def verificar_disponibilidade(ano):\n",
    "        livros_disponiveis = [livro for livro in Livro.livros if livro.ano_publicacao == ano and livro.disponivel]\n",
    "        return livros_disponiveis"
   ]
  },
  {
   "cell_type": "code",
   "execution_count": null,
   "metadata": {},
   "outputs": [
    {
     "name": "stdout",
     "output_type": "stream",
     "text": [
      "Príncipe Cruel  | Holly Black     | 2018     | False\n",
      "Rei Perverso    | Holly Black     | 2020     | True\n",
      "Rainha Do Nada  | Holly Black     | 2020     | True\n"
     ]
    }
   ],
   "source": [
    "# Instanciando a classe livro\n",
    "livro01 = Livro('Príncipe Cruel', 'Holly Black', 2018)\n",
    "livro02 = Livro('Rei Perverso', 'Holly Black', 2020)\n",
    "livro03 = Livro('Rainha do Nada', 'Holly Black', 2020)\n",
    "\n",
    "# Lista de livros\n",
    "Livro.livros = [livro01, livro02, livro03]\n"
   ]
  },
  {
   "cell_type": "markdown",
   "metadata": {},
   "source": [
    "5. Crie um arquivo chamado biblioteca.py e importe a classe Livro nestearquivo.\n",
    "\n",
    "6. No arquivo biblioteca.py, empreste o livro chamando o métodoemprestar e imprima se o livro está disponível ou não após oempréstimo.\n",
    "\n",
    "7. No arquivo biblioteca.py, utilize o método estáticoverificar_disponibilidade para obter a lista de livros disponíveispublicados em um ano específico.\n",
    "\n",
    "8. Crie um arquivo chamado main.py, importe a classe Livro e, noarquivo main.py, instancie dois objetos da classe Livro e exiba amensagem formatada utilizando o método str."
   ]
  }
 ],
 "metadata": {
  "kernelspec": {
   "display_name": "Python 3",
   "language": "python",
   "name": "python3"
  },
  "language_info": {
   "codemirror_mode": {
    "name": "ipython",
    "version": 3
   },
   "file_extension": ".py",
   "mimetype": "text/x-python",
   "name": "python",
   "nbconvert_exporter": "python",
   "pygments_lexer": "ipython3",
   "version": "3.11.9"
  }
 },
 "nbformat": 4,
 "nbformat_minor": 2
}
