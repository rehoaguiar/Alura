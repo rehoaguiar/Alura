{
 "cells": [
  {
   "cell_type": "code",
   "execution_count": 1,
   "metadata": {},
   "outputs": [
    {
     "name": "stdout",
     "output_type": "stream",
     "text": [
      "Civic | Preto | 2018\n",
      "Agerra | Branco | 2024\n"
     ]
    }
   ],
   "source": [
    "# 1. Implemente uma classe chamada Carro com os atributos básicos, como modelo, cor e ano. Crie uma instância dessa classe e atribua valores aos seus atributos.\n",
    "class Carro:\n",
    "    carros = []\n",
    "\n",
    "    def __init__(self, modelo, cor, ano):\n",
    "        self.modelo = modelo\n",
    "        self.cor = cor\n",
    "        self.ano = ano\n",
    "        Carro.carros.append(self)\n",
    "\n",
    "    def __str__(self):\n",
    "            return f'{self.modelo} | {self.cor} | {self.ano}'\n",
    "\n",
    "carro1 = Carro('Civic', 'Preto', '2018')\n",
    "carro2 = Carro('Agerra', 'Branco', '2024')\n",
    "\n",
    "for carro in Carro.carros:\n",
    "    print(f'{carro.modelo} | {carro.cor} | {carro.ano}')"
   ]
  },
  {
   "cell_type": "code",
   "execution_count": null,
   "metadata": {},
   "outputs": [
    {
     "name": "stdout",
     "output_type": "stream",
     "text": [
      "Praça | Gourmet | 5 estrelas | 2005 | False\n",
      "Pizza Place | Fast Food | 3 estrelas | 2023 | False\n"
     ]
    }
   ],
   "source": [
    "# 2. Crie uma classe chamada Restaurante com os atributos nome, categoria, ativo e crie mais 2 atributos. Instancie um restaurante e atribua valores aos seus atributos.\n",
    "\n",
    "class Restaurante:\n",
    "    restaurantes = []\n",
    "\n",
    "    def __init__(self, nome, categoria, pontuacao, ano_criacao):\n",
    "        self.nome = nome\n",
    "        self.categoria = categoria\n",
    "        self.pontuacao = pontuacao\n",
    "        self.ano_criacao = ano_criacao\n",
    "        self.status = False\n",
    "\n",
    "        Restaurante.restaurantes.append(self)\n",
    "\n",
    "    def __str__(self):\n",
    "            return f'{self.nome} | {self.categoria} | {self.pontuacao} | {self.ano_criacao} | {self.status}'\n",
    "    \n",
    "    def listar_restaurantes():\n",
    "        for restaurante in Restaurante.restaurantes:\n",
    "            print(restaurante)\n",
    "\n",
    "# Main\n",
    "# Criando dois novos restaurantes\n",
    "restaurante_praca = Restaurante('Praça', 'Gourmet', '5 estrelas', '2005')\n",
    "restaurante_pizza = Restaurante('Pizza Place', 'Fast Food', '3 estrelas', '2023')\n",
    "\n",
    "Restaurante.listar_restaurantes()"
   ]
  },
  {
   "cell_type": "code",
   "execution_count": 7,
   "metadata": {},
   "outputs": [
    {
     "name": "stdout",
     "output_type": "stream",
     "text": [
      "Praça | Gourmet | 5 estrelas | 2005 | False\n",
      "Pizza Place | Fast Food | 3 estrelas | 2023 | False\n",
      "Sushi House | Japonesa | Sem Avaliação | Desconhecido | False\n"
     ]
    }
   ],
   "source": [
    "# 3. Modifique a classe Restaurante adicionando um construtor que aceita nome e categoria como parâmetros e inicia ativo como False por padrão. Crie uma instância utilizando o construtor.\n",
    "\n",
    "class Restaurante:\n",
    "    restaurantes = []\n",
    "\n",
    "    def __init__(self, nome, categoria, pontuacao='Sem Avaliação', ano_criacao='Desconhecido'):\n",
    "        self.nome = nome\n",
    "        self.categoria = categoria\n",
    "        self.pontuacao = pontuacao\n",
    "        self.ano_criacao = ano_criacao\n",
    "        self.status = False\n",
    "\n",
    "        Restaurante.restaurantes.append(self)\n",
    "\n",
    "    def __str__(self):\n",
    "            return f'{self.nome} | {self.categoria} | {self.pontuacao} | {self.ano_criacao} | {self.status}'\n",
    "    \n",
    "    def listar_restaurantes():\n",
    "        for restaurante in Restaurante.restaurantes:\n",
    "            print(restaurante)\n",
    "\n",
    "# Main\n",
    "# Criando dois novos restaurantes\n",
    "restaurante_praca = Restaurante('Praça', 'Gourmet', '5 estrelas', '2005')\n",
    "restaurante_pizza = Restaurante('Pizza Place', 'Fast Food', '3 estrelas', '2023')\n",
    "restaurante_sushi = Restaurante('Sushi House', 'Japonesa')\n",
    "\n",
    "Restaurante.listar_restaurantes()"
   ]
  },
  {
   "cell_type": "code",
   "execution_count": 8,
   "metadata": {},
   "outputs": [
    {
     "name": "stdout",
     "output_type": "stream",
     "text": [
      "Praça | Gourmet\n",
      "Pizza Place | Fast Food\n",
      "Sushi House | Japonesa\n"
     ]
    }
   ],
   "source": [
    "# 04. Adicione um método especial __str__ à classe Restaurante para que, ao imprimir uma instância, seja exibida uma mensagem formatada com o nome e a categoria. Exiba essa mensagem para uma instância de restaurante.\n",
    "\n",
    "class Restaurante:\n",
    "    restaurantes = []\n",
    "\n",
    "    def __init__(self, nome, categoria, pontuacao='Sem Avaliação', ano_criacao='Desconhecido'):\n",
    "        self.nome = nome\n",
    "        self.categoria = categoria\n",
    "        self.pontuacao = pontuacao\n",
    "        self.ano_criacao = ano_criacao\n",
    "        self.status = False\n",
    "\n",
    "        Restaurante.restaurantes.append(self)\n",
    "\n",
    "    def __str__(self):\n",
    "            return f'{self.nome} | {self.categoria}'\n",
    "    \n",
    "    def listar_restaurantes():\n",
    "        for restaurante in Restaurante.restaurantes:\n",
    "            print(restaurante)\n",
    "\n",
    "# Main\n",
    "# Criando dois novos restaurantes\n",
    "restaurante_praca = Restaurante('Praça', 'Gourmet', '5 estrelas', '2005')\n",
    "restaurante_pizza = Restaurante('Pizza Place', 'Fast Food', '3 estrelas', '2023')\n",
    "restaurante_sushi = Restaurante('Sushi House', 'Japonesa')\n",
    "\n",
    "Restaurante.listar_restaurantes()\n"
   ]
  },
  {
   "cell_type": "code",
   "execution_count": 13,
   "metadata": {},
   "outputs": [
    {
     "name": "stdout",
     "output_type": "stream",
     "text": [
      "Reh | R280821 | 21/02/2005 | YouCom\n",
      "Teteu | M280821 | 10/04/2003 | Nike\n",
      "Luciane | L180403 | 18/04/1976 | Zinzane\n",
      "Reinaldo | R180403 | 20/04/1974 | Polo\n"
     ]
    }
   ],
   "source": [
    "# 05. Crie uma classe chamada Cliente e pense em 4 atributos. Em seguida, instancie 3 objetos desta classe e atribua valores aos seus atributos através de um método construtor.\n",
    "\n",
    "class Cliente():\n",
    "    clientes = []\n",
    "\n",
    "    def __init__(self, nome, cpf, data_nascimento, loja_favorita):\n",
    "        self.nome = nome\n",
    "        self.cpf = cpf\n",
    "        self.data_nascimento = data_nascimento\n",
    "        self.loja_favorita = loja_favorita\n",
    "\n",
    "        Cliente.clientes.append(self)\n",
    "\n",
    "    def __str__(self):\n",
    "            return f'{self.nome} | {self.cpf} | {self.data_nascimento} | {self.loja_favorita}'\n",
    "    \n",
    "cliente1 = Cliente('Reh', 'R280821', '21/02/2005', 'YouCom')\n",
    "cliente2 = Cliente('Teteu', 'M280821', '10/04/2003', 'Nike')\n",
    "cliente3 = Cliente('Luciane', 'L180403', '18/04/1976', 'Zinzane')\n",
    "cliente4 = Cliente('Reinaldo', 'R180403', '20/04/1974', 'Polo')\n",
    "\n",
    "for cliente in Cliente.clientes:\n",
    "    print(cliente)\n"
   ]
  }
 ],
 "metadata": {
  "kernelspec": {
   "display_name": "Python 3",
   "language": "python",
   "name": "python3"
  },
  "language_info": {
   "codemirror_mode": {
    "name": "ipython",
    "version": 3
   },
   "file_extension": ".py",
   "mimetype": "text/x-python",
   "name": "python",
   "nbconvert_exporter": "python",
   "pygments_lexer": "ipython3",
   "version": "3.11.9"
  }
 },
 "nbformat": 4,
 "nbformat_minor": 2
}
