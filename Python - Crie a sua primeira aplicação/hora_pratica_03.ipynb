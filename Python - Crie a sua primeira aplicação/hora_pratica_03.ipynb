{
 "cells": [
  {
   "cell_type": "code",
   "execution_count": 3,
   "metadata": {},
   "outputs": [
    {
     "name": "stdout",
     "output_type": "stream",
     "text": [
      "\n",
      "\n",
      "██╗░░██╗░█████╗░██████╗░░█████╗░  ██████╗░██████╗░░█████╗░████████╗██╗░█████╗░░█████╗░\n",
      "██║░░██║██╔══██╗██╔══██╗██╔══██╗  ██╔══██╗██╔══██╗██╔══██╗╚══██╔══╝██║██╔══██╗██╔══██╗\n",
      "███████║██║░░██║██████╔╝███████║  ██████╔╝██████╔╝███████║░░░██║░░░██║██║░░╚═╝███████║\n",
      "██╔══██║██║░░██║██╔══██╗██╔══██║  ██╔═══╝░██╔══██╗██╔══██║░░░██║░░░██║██║░░██╗██╔══██║\n",
      "██║░░██║╚█████╔╝██║░░██║██║░░██║  ██║░░░░░██║░░██║██║░░██║░░░██║░░░██║╚█████╔╝██║░░██║\n",
      "╚═╝░░╚═╝░╚════╝░╚═╝░░╚═╝╚═╝░░╚═╝  ╚═╝░░░░░╚═╝░░╚═╝╚═╝░░╚═╝░░░╚═╝░░░╚═╝░╚════╝░╚═╝░░╚═╝\n",
      "\n"
     ]
    }
   ],
   "source": [
    "# Título do Arquivo de Atividades Práticas do Curso de \"Python: Crrie a Sua Primeira Aplicação\"\n",
    "\n",
    "print('''\n",
    "\n",
    "██╗░░██╗░█████╗░██████╗░░█████╗░  ██████╗░██████╗░░█████╗░████████╗██╗░█████╗░░█████╗░\n",
    "██║░░██║██╔══██╗██╔══██╗██╔══██╗  ██╔══██╗██╔══██╗██╔══██╗╚══██╔══╝██║██╔══██╗██╔══██╗\n",
    "███████║██║░░██║██████╔╝███████║  ██████╔╝██████╔╝███████║░░░██║░░░██║██║░░╚═╝███████║\n",
    "██╔══██║██║░░██║██╔══██╗██╔══██║  ██╔═══╝░██╔══██╗██╔══██║░░░██║░░░██║██║░░██╗██╔══██║\n",
    "██║░░██║╚█████╔╝██║░░██║██║░░██║  ██║░░░░░██║░░██║██║░░██║░░░██║░░░██║╚█████╔╝██║░░██║\n",
    "╚═╝░░╚═╝░╚════╝░╚═╝░░╚═╝╚═╝░░╚═╝  ╚═╝░░░░░╚═╝░░╚═╝╚═╝░░╚═╝░░░╚═╝░░░╚═╝░╚════╝░╚═╝░░╚═╝\n",
    "''')\n",
    "\n",
    "# Função de Estilização\n",
    "def negrito(texto):\n",
    "    return f\"\\033[1m{texto}\\033[0m\""
   ]
  },
  {
   "cell_type": "code",
   "execution_count": null,
   "metadata": {},
   "outputs": [],
   "source": [
    "print(negrito('QUESTÃO 01'))\n",
    "print('Crie uma lista para cada informação a seguir:\\nLista de números de 1 a 10;\\nLista com quatro nomes;\\nLista com o ano que você nasceu e o ano atual')\n",
    "\n",
    "print(negrito('\\nRESPOSTA:'))\n",
    "\n",
    "numeros = [1, 2, 3, 4, 5, 6, 7, 8, 9, 10]\n",
    "nomes = ['Reh', 'Teteu', 'Luciane', 'Reinaldo']\n",
    "anos = [2005, 2025]\n",
    "\n",
    "print('Lista de números de 1 a 10: ')\n",
    "for numero in numeros:\n",
    "    print(numero)\n",
    "\n",
    "print('\\nLista contendo 4 nomes: ')\n",
    "for nome in nomes:\n",
    "    print(nome)\n",
    "\n",
    "print('\\nLista contendo o ano em que nasci e o ano atual: ')\n",
    "for ano in anos:\n",
    "    print(ano)"
   ]
  },
  {
   "cell_type": "code",
   "execution_count": null,
   "metadata": {},
   "outputs": [],
   "source": [
    "print(negrito('QUESTÃO 02'))\n",
    "print('Crie uma lista e utilize um loop for para percorrer todos os elementos da lista')\n",
    "\n",
    "print(negrito('\\nRESPOSTA:'))\n",
    "\n",
    "nomes = ['Teteu', 'Reh', 'Papai', 'Mamãe']\n",
    "\n",
    "print(f'Lista Nomes = {nomes}')\n",
    "print('\\nPercorrendo a Lista:')\n",
    "for nome in nomes:\n",
    "    print(f'{nome}')"
   ]
  },
  {
   "cell_type": "code",
   "execution_count": null,
   "metadata": {},
   "outputs": [],
   "source": [
    "print(negrito('QUESTÃO 03'))\n",
    "print('Utilize um loop for para calcular a soma dos números ímpares de 1 a 10')\n",
    "\n",
    "print(negrito('\\nRESPOSTA:'))\n",
    "\n",
    "soma_impares = 0\n",
    "\n",
    "for numero in range(1,11,2):\n",
    "    soma_impares += numero\n",
    "\n",
    "print(f'A soma dos números ímpares de 1 a 10 é igual a {soma_impares}')"
   ]
  },
  {
   "cell_type": "code",
   "execution_count": null,
   "metadata": {},
   "outputs": [],
   "source": [
    "print(negrito('QUESTÃO 04'))\n",
    "print('Utilize um loop for para imprimir os números de 1 a 10 em ordem decrescente')\n",
    "\n",
    "print(negrito('\\nRESPOSTA:'))\n",
    "\n",
    "for numero in range(10, 0, -1):\n",
    "    print(f'{numero}')"
   ]
  },
  {
   "cell_type": "code",
   "execution_count": null,
   "metadata": {},
   "outputs": [],
   "source": [
    "print(negrito('QUESTÃO 05'))\n",
    "print('Solicite ao usuário um número e, em seguida, utilize um loop for para imprimir a tabuada desse número, indo de 1 a 10')\n",
    "\n",
    "print(negrito('\\nRESPOSTA:'))\n",
    "\n",
    "def calcular_tabuada():\n",
    "    try: \n",
    "        num_user = int(input('Digite um número: '))\n",
    "        print(f'\\nTabuada de {num_user}')\n",
    "\n",
    "        for numero_tabuada in range(1,11):\n",
    "            resultado = num_user * numero_tabuada\n",
    "            print(f'{num_user} x {numero_tabuada} = {resultado}')\n",
    "\n",
    "    except:\n",
    "        print('O valor é inválido, favor digite um número')\n",
    "        calcular_tabuada()\n",
    "\n",
    "calcular_tabuada()"
   ]
  },
  {
   "cell_type": "code",
   "execution_count": null,
   "metadata": {},
   "outputs": [],
   "source": [
    "print(negrito('QUESTÃO 06'))\n",
    "print('Crie uma lista de números e utilize um loop for para calcular a soma de todos os elementos. Utilize um bloco try-except para lidar com possíveis exceções')\n",
    "\n",
    "print(negrito('\\nRESPOSTA:'))\n",
    "\n",
    "\n",
    "def verificar_num():\n",
    "    try:\n",
    "        lista_nums = input('Digite os número da lista separadas por vírgulas: ').split(',')\n",
    "        soma_lista = 0\n",
    "\n",
    "        for num in lista_nums:\n",
    "            soma_lista += int(num)\n",
    "\n",
    "        if lista_nums != []:\n",
    "            print(f'A soma dos números: {lista_nums} é igual a {soma_lista}')\n",
    "        else:\n",
    "            print('A lista está vazia')\n",
    "            verificar_num()\n",
    "\n",
    "    except Exception as e:\n",
    "        print('Uma das entradas não é um valor válido')\n",
    "        lista_nums = []\n",
    "        verificar_num()\n",
    "\n",
    "verificar_num()\n"
   ]
  },
  {
   "cell_type": "code",
   "execution_count": 5,
   "metadata": {},
   "outputs": [
    {
     "name": "stdout",
     "output_type": "stream",
     "text": [
      "\u001b[1mQUESTÃO 07\u001b[0m\n",
      "Construa um código que calcule a média dos valores em uma lista. Utilize um bloco try-except para lidar com a divisão por zero, caso a lista esteja vazia\n",
      "\u001b[1m\n",
      "RESPOSTA:\u001b[0m\n",
      "Uma das entradas não é um valor válido\n",
      "A média aproximada dos números: ['1', '2', '2'] é 1.6666666666666667\n"
     ]
    }
   ],
   "source": [
    "print(negrito('QUESTÃO 07'))\n",
    "print('Construa um código que calcule a média dos valores em uma lista. Utilize um bloco try-except para lidar com a divisão por zero, caso a lista esteja vazia')\n",
    "\n",
    "print(negrito('\\nRESPOSTA:'))\n",
    "\n",
    "def fazer_media():\n",
    "    lista_nums = input('Digite os número da lista separadas por vírgulas: ').split(',')\n",
    "    soma_nums = 0\n",
    "\n",
    "    try:\n",
    "        for num in lista_nums:\n",
    "            soma_nums += (int(num))\n",
    "        \n",
    "        media = soma_nums / len(lista_nums)\n",
    "        print(f'A média aproximada dos números: {lista_nums} é {media}')\n",
    "        \n",
    "    except ZeroDivisionError:\n",
    "        print('A lista está vazia, não é possível calcular a média')\n",
    "\n",
    "    except Exception:\n",
    "        print('Uma das entradas não é um valor válido')\n",
    "        fazer_media()\n",
    "        \n",
    "fazer_media()\n"
   ]
  }
 ],
 "metadata": {
  "kernelspec": {
   "display_name": "Python 3",
   "language": "python",
   "name": "python3"
  },
  "language_info": {
   "codemirror_mode": {
    "name": "ipython",
    "version": 3
   },
   "file_extension": ".py",
   "mimetype": "text/x-python",
   "name": "python",
   "nbconvert_exporter": "python",
   "pygments_lexer": "ipython3",
   "version": "3.12.9"
  }
 },
 "nbformat": 4,
 "nbformat_minor": 2
}
