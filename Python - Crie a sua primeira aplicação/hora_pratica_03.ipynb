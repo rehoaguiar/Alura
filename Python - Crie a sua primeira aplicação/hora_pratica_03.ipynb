{
 "cells": [
  {
   "cell_type": "code",
   "execution_count": 2,
   "metadata": {},
   "outputs": [
    {
     "name": "stdout",
     "output_type": "stream",
     "text": [
      "\n",
      "\n",
      "██╗░░██╗░█████╗░██████╗░░█████╗░  ██████╗░██████╗░░█████╗░████████╗██╗░█████╗░░█████╗░\n",
      "██║░░██║██╔══██╗██╔══██╗██╔══██╗  ██╔══██╗██╔══██╗██╔══██╗╚══██╔══╝██║██╔══██╗██╔══██╗\n",
      "███████║██║░░██║██████╔╝███████║  ██████╔╝██████╔╝███████║░░░██║░░░██║██║░░╚═╝███████║\n",
      "██╔══██║██║░░██║██╔══██╗██╔══██║  ██╔═══╝░██╔══██╗██╔══██║░░░██║░░░██║██║░░██╗██╔══██║\n",
      "██║░░██║╚█████╔╝██║░░██║██║░░██║  ██║░░░░░██║░░██║██║░░██║░░░██║░░░██║╚█████╔╝██║░░██║\n",
      "╚═╝░░╚═╝░╚════╝░╚═╝░░╚═╝╚═╝░░╚═╝  ╚═╝░░░░░╚═╝░░╚═╝╚═╝░░╚═╝░░░╚═╝░░░╚═╝░╚════╝░╚═╝░░╚═╝\n",
      "\n"
     ]
    }
   ],
   "source": [
    "# Título do Arquivo de Atividades Práticas do Curso de \"Python: Crrie a Sua Primeira Aplicação\"\n",
    "\n",
    "print('''\n",
    "\n",
    "██╗░░██╗░█████╗░██████╗░░█████╗░  ██████╗░██████╗░░█████╗░████████╗██╗░█████╗░░█████╗░\n",
    "██║░░██║██╔══██╗██╔══██╗██╔══██╗  ██╔══██╗██╔══██╗██╔══██╗╚══██╔══╝██║██╔══██╗██╔══██╗\n",
    "███████║██║░░██║██████╔╝███████║  ██████╔╝██████╔╝███████║░░░██║░░░██║██║░░╚═╝███████║\n",
    "██╔══██║██║░░██║██╔══██╗██╔══██║  ██╔═══╝░██╔══██╗██╔══██║░░░██║░░░██║██║░░██╗██╔══██║\n",
    "██║░░██║╚█████╔╝██║░░██║██║░░██║  ██║░░░░░██║░░██║██║░░██║░░░██║░░░██║╚█████╔╝██║░░██║\n",
    "╚═╝░░╚═╝░╚════╝░╚═╝░░╚═╝╚═╝░░╚═╝  ╚═╝░░░░░╚═╝░░╚═╝╚═╝░░╚═╝░░░╚═╝░░░╚═╝░╚════╝░╚═╝░░╚═╝\n",
    "''')\n",
    "\n",
    "# Função de Estilização\n",
    "def negrito(texto):\n",
    "    return f\"\\033[1m{texto}\\033[0m\""
   ]
  },
  {
   "cell_type": "code",
   "execution_count": null,
   "metadata": {},
   "outputs": [],
   "source": [
    "print(negrito('QUESTÃO 01'))\n",
    "print('Crie uma lista para cada informação a seguir:\\nLista de números de 1 a 10;\\nLista com quatro nomes;\\nLista com o ano que você nasceu e o ano atual')\n",
    "\n",
    "print(negrito('\\nRESPOSTA:'))\n",
    "\n",
    "numeros = [1, 2, 3, 4, 5, 6, 7, 8, 9, 10]\n",
    "nomes = ['Reh', 'Teteu', 'Luciane', 'Reinaldo']\n",
    "anos = [2005, 2025]\n",
    "\n",
    "print('Lista de números de 1 a 10: ')\n",
    "for numero in numeros:\n",
    "    print(f'{numero}')\n",
    "\n",
    "print('\\nLista contendo 4 nomes: ')\n",
    "for nome in nomes:\n",
    "    print(f'{nome}')\n",
    "\n",
    "print('\\nLista contendo o ano em que nasci e o ano atual: ')\n",
    "for ano in anos:\n",
    "    print(f'{ano}')"
   ]
  },
  {
   "cell_type": "code",
   "execution_count": null,
   "metadata": {},
   "outputs": [],
   "source": [
    "print(negrito('QUESTÃO 02'))\n",
    "print('Crie uma lista e utilize um loop for para percorrer todos os elementos da lista')\n",
    "\n",
    "print(negrito('\\nRESPOSTA:'))\n",
    "\n",
    "nomes = ['Teteu', 'Reh', 'Papai', 'Mamãe']\n",
    "\n",
    "print(f'Lista Nomes = {nomes}')\n",
    "print('\\nPercorrendo a Lista:')\n",
    "for nome in nomes:\n",
    "    print(f'{nome}')"
   ]
  },
  {
   "cell_type": "code",
   "execution_count": null,
   "metadata": {},
   "outputs": [],
   "source": [
    "print(negrito('QUESTÃO 03'))\n",
    "print('Utilize um loop for para calcular a soma dos números ímpares de 1 a 10')\n",
    "\n",
    "print(negrito('\\nRESPOSTA:'))\n",
    "\n",
    "numeros = [1, 2, 3, 4, 5, 6, 7, 8, 9, 10]\n",
    "numeros_impares = []\n",
    "\n",
    "for numero in numeros:\n",
    "    if(numero % 2 != 0):\n",
    "        numeros_impares.append(numero)\n",
    "\n",
    "soma_nums = 0\n",
    "\n",
    "for numero_impar in numeros_impares:\n",
    "    soma_nums += numero_impar\n",
    "\n",
    "print(f'A soma dos números ímpares: {numeros_impares} é igual a {soma_nums}')"
   ]
  },
  {
   "cell_type": "code",
   "execution_count": null,
   "metadata": {},
   "outputs": [],
   "source": [
    "print(negrito('QUESTÃO 04'))\n",
    "print('Utilize um loop for para imprimir os números de 1 a 10 em ordem decrescente')\n",
    "\n",
    "print(negrito('\\nRESPOSTA:'))\n",
    "\n",
    "numeros = [1, 2, 3, 4, 5, 6, 7, 8, 9, 10]\n",
    "numeros_dec = []\n",
    "\n",
    "for numero in range(10, 0, -1):\n",
    "    print(f'{numero}')"
   ]
  },
  {
   "cell_type": "code",
   "execution_count": null,
   "metadata": {},
   "outputs": [],
   "source": [
    "print(negrito('QUESTÃO 05'))\n",
    "print('Solicite ao usuário um número e, em seguida, utilize um loop for para imprimir a tabuada desse número, indo de 1 a 10')\n",
    "\n",
    "print(negrito('\\nRESPOSTA:'))\n",
    "\n",
    "num_user = int(input('Digite um número: '))\n",
    "print(f'Tabuada de {num_user}')\n",
    "\n",
    "try: \n",
    "    numeros_tabuada = [0, 1, 2, 3, 4, 5, 6, 7, 8, 9, 10]\n",
    "    tabuada = []\n",
    "\n",
    "    for numero_tabuada in numeros_tabuada:\n",
    "        tabuada.append(numero_tabuada * num_user)\n",
    "        print(f'{num_user} x {numero_tabuada} = {tabuada[numero_tabuada]}')\n",
    "\n",
    "except:\n",
    "    print\n",
    "    num_user = int(input('Digite um número: '))"
   ]
  },
  {
   "cell_type": "code",
   "execution_count": null,
   "metadata": {},
   "outputs": [],
   "source": [
    "print(negrito('QUESTÃO 06'))\n",
    "print('Crie uma lista de números e utilize um loop for para calcular a soma de todos os elementos. Utilize um bloco try-except para lidar com possíveis exceções')\n",
    "\n",
    "print(negrito('\\nRESPOSTA:'))\n",
    "\n",
    "\n",
    "def verificar_num():\n",
    "    lista_nums = input('Digite os número da lista separadas por vírgulas: ').split(',')\n",
    "    soma_lista = 0\n",
    "\n",
    "    try:\n",
    "        for num in lista_nums:\n",
    "            soma_lista += int(num)\n",
    "    except ValueError:\n",
    "        print('Uma das entradas não é um valor válido')\n",
    "        verificar_num()\n",
    "    \n",
    "    print(f'A soma dos números: {lista_nums} é igual a {soma_lista}')\n",
    "\n",
    "verificar_num()\n"
   ]
  },
  {
   "cell_type": "code",
   "execution_count": null,
   "metadata": {},
   "outputs": [
    {
     "name": "stdout",
     "output_type": "stream",
     "text": [
      "\u001b[1mQUESTÃO 07\u001b[0m\n",
      "Construa um código que calcule a média dos valores em uma lista. Utilize um bloco try-except para lidar com a divisão por zero, caso a lista esteja vazia\n",
      "\u001b[1m\n",
      "RESPOSTA:\u001b[0m\n",
      "A média aproximada dos números: 2.0 é 2.0\n"
     ]
    }
   ],
   "source": [
    "print(negrito('QUESTÃO 07'))\n",
    "print('Construa um código que calcule a média dos valores em uma lista. Utilize um bloco try-except para lidar com a divisão por zero, caso a lista esteja vazia')\n",
    "\n",
    "print(negrito('\\nRESPOSTA:'))\n",
    "\n",
    "def fazer_media():\n",
    "    lista_nums = input('Digite os número da lista separadas por vírgulas: ').split(',')\n",
    "    quantidade_nums = 0\n",
    "    resultado_media = 0\n",
    "\n",
    "    try:\n",
    "        for num in lista_nums:\n",
    "            num = int(num) # Converte o valor rebido para int\n",
    "            quantidade_nums = quantidade_nums + 1\n",
    "            resultado_media += num\n",
    "        \n",
    "        try:\n",
    "            resultado_media = resultado_media/quantidade_nums\n",
    "            print(f'A média aproximada dos números: {lista_nums} é {resultado_media}')\n",
    "\n",
    "        except:\n",
    "            print('É impossível realizar uma divisão por 0')\n",
    "            fazer_media()\n",
    "\n",
    "    except ValueError:\n",
    "        print('Uma das entradas não é um valor válido')\n",
    "        fazer_media()\n",
    "        \n",
    "fazer_media()"
   ]
  }
 ],
 "metadata": {
  "kernelspec": {
   "display_name": "Python 3",
   "language": "python",
   "name": "python3"
  },
  "language_info": {
   "codemirror_mode": {
    "name": "ipython",
    "version": 3
   },
   "file_extension": ".py",
   "mimetype": "text/x-python",
   "name": "python",
   "nbconvert_exporter": "python",
   "pygments_lexer": "ipython3",
   "version": "3.12.9"
  }
 },
 "nbformat": 4,
 "nbformat_minor": 2
}
