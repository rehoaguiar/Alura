{
 "cells": [
  {
   "cell_type": "code",
   "execution_count": null,
   "metadata": {},
   "outputs": [],
   "source": [
    "# Título do Arquivo de Atividades Práticas do Curso de \"Python: Crrie a Sua Primeira Aplicação\"\n",
    "\n",
    "print('''\n",
    "\n",
    "██╗░░██╗░█████╗░██████╗░░█████╗░  ██████╗░██████╗░░█████╗░████████╗██╗░█████╗░░█████╗░\n",
    "██║░░██║██╔══██╗██╔══██╗██╔══██╗  ██╔══██╗██╔══██╗██╔══██╗╚══██╔══╝██║██╔══██╗██╔══██╗\n",
    "███████║██║░░██║██████╔╝███████║  ██████╔╝██████╔╝███████║░░░██║░░░██║██║░░╚═╝███████║\n",
    "██╔══██║██║░░██║██╔══██╗██╔══██║  ██╔═══╝░██╔══██╗██╔══██║░░░██║░░░██║██║░░██╗██╔══██║\n",
    "██║░░██║╚█████╔╝██║░░██║██║░░██║  ██║░░░░░██║░░██║██║░░██║░░░██║░░░██║╚█████╔╝██║░░██║\n",
    "╚═╝░░╚═╝░╚════╝░╚═╝░░╚═╝╚═╝░░╚═╝  ╚═╝░░░░░╚═╝░░╚═╝╚═╝░░╚═╝░░░╚═╝░░░╚═╝░╚════╝░╚═╝░░╚═╝\n",
    "''')\n",
    "\n",
    "# Função de Estilização\n",
    "def negrito(texto):\n",
    "    return f\"\\033[1m{texto}\\033[0m\""
   ]
  },
  {
   "cell_type": "code",
   "execution_count": null,
   "metadata": {},
   "outputs": [],
   "source": [
    "print(negrito('QUESTÃO 01'))\n",
    "print('Crie um dicionário representando informações sobre uma pessoa, como nome, idade e cidade')\n",
    "\n",
    "print(negrito('\\nRESPOSTA:'))\n"
   ]
  },
  {
   "cell_type": "code",
   "execution_count": null,
   "metadata": {},
   "outputs": [],
   "source": [
    "print(negrito('QUESTÃO 02'))\n",
    "print('Utilizando o dicionário criado no item 1:\\n - Modifique o valor de um dos itens no dicionário (por exemplo, atualize a idade da pessoa);\\n - Adicione um campo de profissão para essa pessoa;\\n - Remova um item do dicionário')\n",
    "\n",
    "print(negrito('\\nRESPOSTA:'))\n"
   ]
  },
  {
   "cell_type": "code",
   "execution_count": null,
   "metadata": {},
   "outputs": [],
   "source": [
    "print(negrito('QUESTÃO 03'))\n",
    "print('Crie um dicionário que relacione os números de 1 a 5 aos seus respectivos quadrados')\n",
    "\n",
    "print(negrito('\\nRESPOSTA:'))"
   ]
  },
  {
   "cell_type": "code",
   "execution_count": null,
   "metadata": {},
   "outputs": [],
   "source": [
    "print(negrito('QUESTÃO 04'))\n",
    "print('Crie um dicionário e verifique se uma chave específica existe dentro desse dicionário')\n",
    "\n",
    "print(negrito('\\nRESPOSTA:'))"
   ]
  },
  {
   "cell_type": "code",
   "execution_count": null,
   "metadata": {},
   "outputs": [],
   "source": [
    "print(negrito('QUESTÃO 05'))\n",
    "print('Escreva um código que conte a frequência de cada palavra em uma frase utilizando um dicionário')\n",
    "\n",
    "print(negrito('\\nRESPOSTA:'))"
   ]
  }
 ],
 "metadata": {
  "kernelspec": {
   "display_name": "Python 3",
   "language": "python",
   "name": "python3"
  },
  "language_info": {
   "codemirror_mode": {
    "name": "ipython",
    "version": 3
   },
   "file_extension": ".py",
   "mimetype": "text/x-python",
   "name": "python",
   "nbconvert_exporter": "python",
   "pygments_lexer": "ipython3",
   "version": "3.12.9"
  }
 },
 "nbformat": 4,
 "nbformat_minor": 2
}
