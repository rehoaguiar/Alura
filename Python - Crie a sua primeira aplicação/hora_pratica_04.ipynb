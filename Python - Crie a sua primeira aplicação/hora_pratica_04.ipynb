{
 "cells": [
  {
   "cell_type": "code",
   "execution_count": 2,
   "metadata": {},
   "outputs": [
    {
     "name": "stdout",
     "output_type": "stream",
     "text": [
      "\n",
      "\n",
      "██╗░░██╗░█████╗░██████╗░░█████╗░  ██████╗░██████╗░░█████╗░████████╗██╗░█████╗░░█████╗░\n",
      "██║░░██║██╔══██╗██╔══██╗██╔══██╗  ██╔══██╗██╔══██╗██╔══██╗╚══██╔══╝██║██╔══██╗██╔══██╗\n",
      "███████║██║░░██║██████╔╝███████║  ██████╔╝██████╔╝███████║░░░██║░░░██║██║░░╚═╝███████║\n",
      "██╔══██║██║░░██║██╔══██╗██╔══██║  ██╔═══╝░██╔══██╗██╔══██║░░░██║░░░██║██║░░██╗██╔══██║\n",
      "██║░░██║╚█████╔╝██║░░██║██║░░██║  ██║░░░░░██║░░██║██║░░██║░░░██║░░░██║╚█████╔╝██║░░██║\n",
      "╚═╝░░╚═╝░╚════╝░╚═╝░░╚═╝╚═╝░░╚═╝  ╚═╝░░░░░╚═╝░░╚═╝╚═╝░░╚═╝░░░╚═╝░░░╚═╝░╚════╝░╚═╝░░╚═╝\n",
      "\n"
     ]
    }
   ],
   "source": [
    "# Título do Arquivo de Atividades Práticas do Curso de \"Python: Crrie a Sua Primeira Aplicação\"\n",
    "\n",
    "print('''\n",
    "\n",
    "██╗░░██╗░█████╗░██████╗░░█████╗░  ██████╗░██████╗░░█████╗░████████╗██╗░█████╗░░█████╗░\n",
    "██║░░██║██╔══██╗██╔══██╗██╔══██╗  ██╔══██╗██╔══██╗██╔══██╗╚══██╔══╝██║██╔══██╗██╔══██╗\n",
    "███████║██║░░██║██████╔╝███████║  ██████╔╝██████╔╝███████║░░░██║░░░██║██║░░╚═╝███████║\n",
    "██╔══██║██║░░██║██╔══██╗██╔══██║  ██╔═══╝░██╔══██╗██╔══██║░░░██║░░░██║██║░░██╗██╔══██║\n",
    "██║░░██║╚█████╔╝██║░░██║██║░░██║  ██║░░░░░██║░░██║██║░░██║░░░██║░░░██║╚█████╔╝██║░░██║\n",
    "╚═╝░░╚═╝░╚════╝░╚═╝░░╚═╝╚═╝░░╚═╝  ╚═╝░░░░░╚═╝░░╚═╝╚═╝░░╚═╝░░░╚═╝░░░╚═╝░╚════╝░╚═╝░░╚═╝\n",
    "''')\n",
    "\n",
    "# Função de Estilização\n",
    "def negrito(texto):\n",
    "    return f\"\\033[1m{texto}\\033[0m\""
   ]
  },
  {
   "cell_type": "code",
   "execution_count": 22,
   "metadata": {},
   "outputs": [
    {
     "name": "stdout",
     "output_type": "stream",
     "text": [
      "\u001b[1mQUESTÃO 01\u001b[0m\n",
      "Crie um dicionário representando informações sobre uma pessoa, como nome, idade e cidade\n",
      "\u001b[1m\n",
      "RESPOSTA:\u001b[0m\n",
      "\n",
      "Nome: Mimu\n",
      "Idade: 21\n",
      "Cidade: Brasília\n"
     ]
    }
   ],
   "source": [
    "print(negrito('QUESTÃO 01'))\n",
    "print('Crie um dicionário representando informações sobre uma pessoa, como nome, idade e cidade')\n",
    "\n",
    "print(negrito('\\nRESPOSTA:'))\n",
    "\n",
    "pessoa = {\n",
    "    'nome':'Mimu',\n",
    "    'idade': 21,\n",
    "    'cidade':'Brasília'\n",
    "}\n",
    "\n",
    "print(f'\\nNome: { pessoa['nome']}\\nIdade: {pessoa['idade']}\\nCidade: {pessoa['cidade']}')\n"
   ]
  },
  {
   "cell_type": "code",
   "execution_count": 28,
   "metadata": {},
   "outputs": [
    {
     "name": "stdout",
     "output_type": "stream",
     "text": [
      "\u001b[1mQUESTÃO 02\u001b[0m\n",
      "Utilizando o dicionário criado no item 1:\n",
      " - Modifique o valor de um dos itens no dicionário (por exemplo, atualize a idade da pessoa);\n",
      " - Adicione um campo de profissão para essa pessoa;\n",
      " - Remova um item do dicionário\n",
      "\u001b[1m\n",
      "RESPOSTA:\u001b[0m\n",
      "\n",
      "Nome: Mimu\n",
      "Idade: 22\n",
      "Profissão: Desenvolvedor Fullstack\n"
     ]
    }
   ],
   "source": [
    "print(negrito('QUESTÃO 02'))\n",
    "print('Utilizando o dicionário criado no item 1:\\n - Modifique o valor de um dos itens no dicionário (por exemplo, atualize a idade da pessoa);\\n - Adicione um campo de profissão para essa pessoa;\\n - Remova um item do dicionário')\n",
    "\n",
    "print(negrito('\\nRESPOSTA:'))\n",
    "\n",
    "pessoa['idade'] = 22\n",
    "pessoa['profissão'] = 'Desenvolvedor Fullstack'\n",
    "del pessoa['cidade']\n",
    "\n",
    "print(f'\\nNome: { pessoa['nome']}\\nIdade: {pessoa['idade']}\\nProfissão: {pessoa['profissão']}')\n"
   ]
  },
  {
   "cell_type": "code",
   "execution_count": 31,
   "metadata": {},
   "outputs": [
    {
     "name": "stdout",
     "output_type": "stream",
     "text": [
      "\u001b[1mQUESTÃO 03\u001b[0m\n",
      "Crie um dicionário que relacione os números de 1 a 5 aos seus respectivos quadrados\n",
      "\u001b[1m\n",
      "RESPOSTA:\n",
      "\u001b[0m\n",
      "1² = 1\n",
      "2² = 4\n",
      "3² = 9\n",
      "4² = 16\n",
      "5² = 25\n"
     ]
    }
   ],
   "source": [
    "print(negrito('QUESTÃO 03'))\n",
    "print('Crie um dicionário que relacione os números de 1 a 5 aos seus respectivos quadrados')\n",
    "\n",
    "print(negrito('\\nRESPOSTA:\\n'))\n",
    "\n",
    "num_quadrados = {}\n",
    "\n",
    "for n in range(1, 6):\n",
    "    num_quadrados['numero'] = n\n",
    "    num_quadrados['quadrado'] = n ** 2\n",
    "\n",
    "    print(f'{num_quadrados['numero']}² = {num_quadrados['quadrado']}')\n"
   ]
  },
  {
   "cell_type": "code",
   "execution_count": null,
   "metadata": {},
   "outputs": [
    {
     "name": "stdout",
     "output_type": "stream",
     "text": [
      "\u001b[1mQUESTÃO 04\u001b[0m\n",
      "Crie um dicionário e verifique se uma chave específica existe dentro desse dicionário\n",
      "\u001b[1m\n",
      "RESPOSTA:\u001b[0m\n",
      "\n",
      "A chave existe\n",
      "O apelido de Teteu é Mimu\n"
     ]
    }
   ],
   "source": [
    "print(negrito('QUESTÃO 04'))\n",
    "print('Crie um dicionário e verifique se uma chave específica existe dentro desse dicionário')\n",
    "\n",
    "print(negrito('\\nRESPOSTA:'))\n",
    "\n",
    "teteu = {\n",
    "    'nome':'Matheus',\n",
    "    'apelido':'Mimu',\n",
    "    'idade': 21,\n",
    "    'cidade':'Brasília'\n",
    "}\n",
    "\n",
    "if 'apelido' in teteu:\n",
    "    print('\\nA chave existe')\n",
    "    print(f'O apelido de Teteu é {teteu['apelido']}')\n",
    "else:\n",
    "    print('\\nA chave não existe')"
   ]
  },
  {
   "cell_type": "code",
   "execution_count": 37,
   "metadata": {},
   "outputs": [
    {
     "name": "stdout",
     "output_type": "stream",
     "text": [
      "\u001b[1mQUESTÃO 05\u001b[0m\n",
      "Escreva um código que conte a frequência de cada palavra em uma frase utilizando um dicionário\n",
      "\u001b[1m\n",
      "RESPOSTA:\u001b[0m\n",
      "\n",
      "Mimu é meu amor, Mimu é minha vida, eu amo Mimu]\n",
      "{'Mimu': 2, 'é': 2, 'meu': 1, 'amor,': 1, 'minha': 1, 'vida,': 1, 'eu': 1, 'amo': 1, 'Mimu]': 1}\n"
     ]
    }
   ],
   "source": [
    "print(negrito('QUESTÃO 05'))\n",
    "print('Escreva um código que conte a frequência de cada palavra em uma frase utilizando um dicionário')\n",
    "\n",
    "print(negrito('\\nRESPOSTA:'))\n",
    "\n",
    "frase_user = input('Digite uma frase: ')\n",
    "palavras_frase = {}\n",
    "\n",
    "for palavra in frase_user.split(' '):\n",
    "    if palavra in palavras_frase:\n",
    "        palavras_frase[palavra] += 1\n",
    "    else:\n",
    "        palavras_frase[palavra] = 1\n",
    "\n",
    "print(f'\\n{frase_user}')\n",
    "print(palavras_frase)"
   ]
  },
  {
   "cell_type": "markdown",
   "metadata": {},
   "source": []
  }
 ],
 "metadata": {
  "kernelspec": {
   "display_name": "Python 3",
   "language": "python",
   "name": "python3"
  },
  "language_info": {
   "codemirror_mode": {
    "name": "ipython",
    "version": 3
   },
   "file_extension": ".py",
   "mimetype": "text/x-python",
   "name": "python",
   "nbconvert_exporter": "python",
   "pygments_lexer": "ipython3",
   "version": "3.12.9"
  }
 },
 "nbformat": 4,
 "nbformat_minor": 2
}
